{
 "cells": [
  {
   "cell_type": "markdown",
   "id": "0e381820",
   "metadata": {},
   "source": [
    "# Establish base page"
   ]
  },
  {
   "cell_type": "code",
   "execution_count": null,
   "id": "d23c26f2",
   "metadata": {},
   "outputs": [],
   "source": [
    "# Build a pipeline\n",
    "\n",
    "from bs4 import BeautifulSoup\n",
    "import requests\n",
    "import pandas as pd\n",
    "import numpy as np\n",
    "import os\n",
    "from selenium import webdriver\n",
    "from selenium.webdriver.edge.service import Service\n",
    "\n",
    "# provide path to the Edge driver\n",
    "s=Service(\"C:\\\\Users\\sandr\\OneDrive\\Desktop\\Drivers\\msedgedriver.exe\")\n",
    "driver = webdriver.Edge(service=s)\n",
    "\n",
    "# Get the url\n",
    "url_base = 'https://www.nba.com/stats/draft/combine-anthro/?SeasonYear='\n",
    "\n",
    "driver.get(url_base)\n",
    "\n",
    "# Get the page source or source code of the webpage\n",
    "driver.page_source[:100]\n",
    "\n"
   ]
  },
  {
   "cell_type": "code",
   "execution_count": null,
   "id": "00189a2c",
   "metadata": {},
   "outputs": [],
   "source": [
    "# Use BeautifulSoup and lxml extension to parse, save in variable nba_soup\n",
    "nba_soup = BeautifulSoup(driver.page_source, 'lxml')\n",
    "\n",
    "# Locate the table on the page\n",
    "table = nba_soup.find('table')\n",
    "\n",
    "# Obtain the header for each column on the table\n",
    "# Clean up headers by removing unnecessary characters\n",
    "headers = []\n",
    "for i in table.find_all('th'):\n",
    "    title = i.text.replace('\\n', '').replace('\\xa0', ' ').strip()\n",
    "    headers.append(title)\n",
    "    \n",
    "# Create a dataframe\n",
    "nba_stat = pd.DataFrame(columns = headers) \n",
    "\n",
    "# Create a for loop to fill nba_stat\n",
    "for i in table.find_all('tr')[1:]:\n",
    "    row_data = i.find_all('td')\n",
    "    row =[j.text for j in row_data]\n",
    "    length = len(nba_stat)\n",
    "    nba_stat.loc[length] = row"
   ]
  },
  {
   "cell_type": "code",
   "execution_count": null,
   "id": "4013522b",
   "metadata": {},
   "outputs": [],
   "source": [
    "nba_stat"
   ]
  },
  {
   "cell_type": "markdown",
   "id": "8c671c94",
   "metadata": {},
   "source": [
    "# Build a pipeline"
   ]
  },
  {
   "cell_type": "code",
   "execution_count": null,
   "id": "bb0f6554",
   "metadata": {},
   "outputs": [],
   "source": [
    "# Make a url list\n",
    "# Remember: url_base = 'https://www.nba.com/stats/draft/combine-anthro/?SeasonYear='\n",
    "\n",
    "url_list = []\n",
    "\n",
    "def find_next_url(url_base):\n",
    "    a = 2021\n",
    "    while a >= 2000:\n",
    "        b = a+1\n",
    "        new_url = url_base + str(a) + \"-\" + str(b)[-2:]\n",
    "        a -=1\n",
    "        return url_list.append(new_url)\n",
    "        \n",
    "# # test\n",
    "# url = 'https://www.nba.com/stats/draft/combine-anthro/?SeasonYear='\n",
    "\n",
    "# find_next_url(url)"
   ]
  },
  {
   "cell_type": "code",
   "execution_count": null,
   "id": "445f8826",
   "metadata": {},
   "outputs": [],
   "source": [
    "for url in url_list:\n",
    "    # Get the url\n",
    "    driver.get(url)\n",
    "    \n",
    "    # Get the page source or source code of the webpage\n",
    "    driver.page_source[:100]\n",
    "    \n",
    "    # Use BeautifulSoup and lxml extension to parse, save in variable nba_soup\n",
    "    nba_soup = BeautifulSoup(driver.page_source, 'lxml')\n",
    "    \n",
    "    # Locate the table on the page\n",
    "    table = nba_soup.find('table')\n",
    "    \n",
    "    # Obtain the header for each column on the table\n",
    "    # Clean up headers by removing unnecessary characters\n",
    "    headers = []\n",
    "    for i in table.find_all('th'):\n",
    "        title = i.text.replace('\\n', '').replace('\\xa0', ' ').strip()\n",
    "        headers.append(title)\n",
    "    \n",
    "    # Create a dataframe\n",
    "    nba_stat1 = pd.DataFrame(columns = headers)\n",
    "    \n",
    "    # Create a for loop to fill nba_stat1\n",
    "    for i in table.find_all('tr')[1:]:\n",
    "        row_data = i.find_all('td')\n",
    "        row =[j.text for j in row_data]\n",
    "        length = len(nba_stat1)\n",
    "        nba_stat1.loc[length] = row\n",
    "    \n",
    "    # Union of table to base table\n",
    "    nba_union = pd.concat([nba_stat, nba_stat1], ignore_index=True)"
   ]
  },
  {
   "cell_type": "markdown",
   "id": "d5e51dc4",
   "metadata": {},
   "source": [
    "# Clean up data"
   ]
  },
  {
   "cell_type": "code",
   "execution_count": null,
   "id": "a70ce763",
   "metadata": {},
   "outputs": [],
   "source": [
    "# Rename some column names to include units of measure\n",
    "nba_union = nba_union.rename(columns = {\"HEIGHT W/O SHOES\":\"HEIGHT W/O SHOES (inches)\",\n",
    "                                        \"HEIGHT W/ SHOES\": \"HEIGHT W/ SHOES (inches)\",\n",
    "                                       \"STANDING REACH\": \"STANDING REACH (inches)\",\n",
    "                                        \"WEIGHT (LBS)\": \"WEIGHT (lbs)\",\n",
    "                                       \"WINGSPAN\": \"WINGSPAN (inches)\"})\n",
    "    \n",
    "# Remove column POS, not significant\n",
    "nba_union = nba_union.drop(['POS'], axis=1)\n",
    "\n",
    "# Remove '%' from each row in \"BODY FAT %\" column\n",
    "nba_union['BODY FAT %'] = [item.replace('%','') for item in nba_union['BODY FAT %']]\n"
   ]
  },
  {
   "cell_type": "code",
   "execution_count": null,
   "id": "de6f6735",
   "metadata": {},
   "outputs": [],
   "source": [
    "# Find null counts\n",
    "null_counts = nba_union.isna().sum()\n",
    "null_counts"
   ]
  },
  {
   "cell_type": "code",
   "execution_count": null,
   "id": "4acf275f",
   "metadata": {},
   "outputs": [],
   "source": [
    "# No null counts, but there are clearly rows with no value inputs\n",
    "# Remove these rows in the dataframe\n",
    "\n",
    "# Identify where '-\"\n",
    "nba_union == '-'\n",
    "\n",
    "# Change all dash strings values into NA values\n",
    "nba_union = nba_union.replace(r'-', np.nan, regex=True)"
   ]
  },
  {
   "cell_type": "code",
   "execution_count": null,
   "id": "78b7fb34",
   "metadata": {},
   "outputs": [],
   "source": [
    "# Identify where \"\" \n",
    "nba_stat1 == \"\"\n",
    "\n",
    "# Change all blank strings values into NA values\n",
    "nba_union = nba_union.replace(r\"\", np.nan, regex=True)"
   ]
  },
  {
   "cell_type": "code",
   "execution_count": null,
   "id": "60cbb2ed",
   "metadata": {},
   "outputs": [],
   "source": [
    "# Check null status again, this time it should show counts of null\n",
    "null_counts = nba_union.isnull().sum()\n",
    "null_counts"
   ]
  },
  {
   "cell_type": "code",
   "execution_count": null,
   "id": "0c747042",
   "metadata": {},
   "outputs": [],
   "source": [
    "# Identify rows that are null\n",
    "df_null = nba_union[nba_union.isnull().any(axis=1)]\n",
    "df_null"
   ]
  },
  {
   "cell_type": "code",
   "execution_count": null,
   "id": "ca8612ee",
   "metadata": {},
   "outputs": [],
   "source": [
    "# Check dimensions of nba_stat1 before dropping null values\n",
    "nba_union.shape"
   ]
  },
  {
   "cell_type": "code",
   "execution_count": null,
   "id": "bf2099e8",
   "metadata": {},
   "outputs": [],
   "source": [
    "# Drop all null values\n",
    "nba_union = nba_union.dropna()\n",
    "\n",
    "# Check dimensions after dropping null values\n",
    "nba_union.shape"
   ]
  },
  {
   "cell_type": "code",
   "execution_count": null,
   "id": "2b08f7bb",
   "metadata": {},
   "outputs": [],
   "source": [
    "# Make a function to standardize height and wingspan into inches\n",
    "def convert_to_inches(measure):\n",
    "        feet_to_inches = float(measure.split(\"'\")[0])*12\n",
    "        inches = float(measure.split(\"'\")[1].replace(\"'\",\"\").replace('\"', ''))\n",
    "        total_inches = feet_to_inches + inches\n",
    "        return total_inches\n"
   ]
  },
  {
   "cell_type": "code",
   "execution_count": null,
   "id": "aea43673",
   "metadata": {},
   "outputs": [],
   "source": [
    "# Apply conversion function to each column that needs conversion\n",
    "nba_union['HEIGHT W/O SHOES (inches)'] = nba_union['HEIGHT W/O SHOES (inches)'].apply(convert_to_inches)\n",
    "nba_union['HEIGHT W/ SHOES (inches)'] = nba_union['HEIGHT W/ SHOES (inches)'].apply(convert_to_inches)\n",
    "nba_union['STANDING REACH (inches)'] = nba_union['STANDING REACH (inches)'].apply(convert_to_inches)\n",
    "nba_union['WINGSPAN (inches)'] = nba_union['WINGSPAN (inches)'].apply(convert_to_inches)\n",
    "\n",
    "nba_union.head()"
   ]
  },
  {
   "cell_type": "code",
   "execution_count": null,
   "id": "9dd3b4f7",
   "metadata": {},
   "outputs": [],
   "source": [
    "# Now change all \"number\" columns' dtypes to numeric so that data is more usable\n",
    "# Check dtype status first\n",
    "nba_union.info()"
   ]
  },
  {
   "cell_type": "code",
   "execution_count": null,
   "id": "d2f98970",
   "metadata": {},
   "outputs": [],
   "source": [
    "nba_union[[\"BODY FAT %\", \"HAND LENGTH (inches)\", \"HAND WIDTH (inches)\",\n",
    "           \"WEIGHT (lbs)\"]] = nba_union[[\"BODY FAT %\", \"HAND LENGTH (inches)\", \"HAND WIDTH (inches)\",\n",
    "           \"WEIGHT (lbs)\"]].apply(pd.to_numeric)\n",
    "\n",
    "# Check dtype status again to verify\n",
    "nba_union.info()"
   ]
  },
  {
   "cell_type": "markdown",
   "id": "ef1a88b4",
   "metadata": {},
   "source": [
    "## Now data is cleaned and ready for visualization"
   ]
  },
  {
   "cell_type": "markdown",
   "id": "db844f94",
   "metadata": {},
   "source": [
    "## Save nba_union dataframe into csv file"
   ]
  },
  {
   "cell_type": "code",
   "execution_count": null,
   "id": "aa106d67",
   "metadata": {},
   "outputs": [],
   "source": [
    "nba_csv = nba_union.to_csv('nba_stats1.csv', index=False)"
   ]
  },
  {
   "cell_type": "code",
   "execution_count": null,
   "id": "5839faf4",
   "metadata": {},
   "outputs": [],
   "source": [
    "# Check that it's saved\n",
    "df = pd.read_csv('nba_stats1.csv')\n",
    "df"
   ]
  }
 ],
 "metadata": {
  "kernelspec": {
   "display_name": "Python [conda env:metis] *",
   "language": "python",
   "name": "conda-env-metis-py"
  },
  "language_info": {
   "codemirror_mode": {
    "name": "ipython",
    "version": 3
   },
   "file_extension": ".py",
   "mimetype": "text/x-python",
   "name": "python",
   "nbconvert_exporter": "python",
   "pygments_lexer": "ipython3",
   "version": "3.9.12"
  }
 },
 "nbformat": 4,
 "nbformat_minor": 5
}
